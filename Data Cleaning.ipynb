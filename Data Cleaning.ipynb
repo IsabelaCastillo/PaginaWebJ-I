{
 "cells": [
  {
   "cell_type": "markdown",
   "id": "88784fe5",
   "metadata": {},
   "source": [
    "### Data Cleaning"
   ]
  },
  {
   "cell_type": "code",
   "execution_count": 1,
   "id": "199129dd",
   "metadata": {},
   "outputs": [],
   "source": [
    "#### Cargue de las bases de datos\n",
    "\n",
    "import pandas as pd \n",
    "\n",
    "customers = pd.read_csv('Customers.csv',encoding='latin1',delimiter=';')                     \n",
    "location = pd.read_csv('Location.csv',encoding='latin1',delimiter=';')\n",
    "orders = pd.read_csv('Orders.csv', encoding='latin1', delimiter=';')\n",
    "products=pd.read_csv('Products.csv',encoding='latin1',delimiter=';')"
   ]
  },
  {
   "cell_type": "code",
   "execution_count": 2,
   "id": "aa83c9ee",
   "metadata": {},
   "outputs": [
    {
     "name": "stdout",
     "output_type": "stream",
     "text": [
      "Row ID          int64\n",
      "Order ID       object\n",
      "Order Date     object\n",
      "Ship Date      object\n",
      "Ship Mode      object\n",
      "Customer ID    object\n",
      "Segment        object\n",
      "Postal Code     int64\n",
      "Product ID     object\n",
      "Sales          object\n",
      "Quantity        int64\n",
      "Discount       object\n",
      "Profit         object\n",
      "dtype: object\n"
     ]
    }
   ],
   "source": [
    "# ...existing code...\n",
    "print(orders.dtypes)\n",
    "# ...existing code..."
   ]
  },
  {
   "cell_type": "markdown",
   "id": "3136cc11",
   "metadata": {},
   "source": [
    "### Creación de Indicadores"
   ]
  },
  {
   "cell_type": "markdown",
   "id": "f411c2ac",
   "metadata": {},
   "source": [
    "1. KPI´s Total Sales"
   ]
  },
  {
   "cell_type": "code",
   "execution_count": 3,
   "id": "203e1c27",
   "metadata": {},
   "outputs": [],
   "source": [
    "#...existing code...\n",
    "orders['Sales'] = orders['Sales'].str.replace(',', '.', regex=False)\n",
    "orders['Sales'] = pd.to_numeric(orders['Sales'], errors='coerce')\n",
    "# ...existing code...\n",
    "# ...existing code...\n",
    "orders['Order Date'] = pd.to_datetime(orders['Order Date'], dayfirst=True, errors='coerce')\n",
    "orders['Year'] = orders['Order Date'].dt.year\n",
    "# ...existing code..."
   ]
  },
  {
   "cell_type": "code",
   "execution_count": 4,
   "id": "7a635c7b",
   "metadata": {},
   "outputs": [
    {
     "data": {
      "application/vnd.plotly.v1+json": {
       "config": {
        "plotlyServerURL": "https://plot.ly"
       },
       "data": [
        {
         "delta": {
          "position": "bottom",
          "reference": 470532.509,
          "relative": true,
          "valueformat": ".2%"
         },
         "mode": "number+delta",
         "number": {
          "prefix": "$",
          "valueformat": ",.0f"
         },
         "title": {
          "text": "<b>Total Sales</b><br><span style='font-size:0.8em;color:gray'>2022</span>"
         },
         "type": "indicator",
         "value": 609205.598
        }
       ],
       "layout": {
        "height": 250,
        "template": {
         "data": {
          "bar": [
           {
            "error_x": {
             "color": "#2a3f5f"
            },
            "error_y": {
             "color": "#2a3f5f"
            },
            "marker": {
             "line": {
              "color": "#E5ECF6",
              "width": 0.5
             },
             "pattern": {
              "fillmode": "overlay",
              "size": 10,
              "solidity": 0.2
             }
            },
            "type": "bar"
           }
          ],
          "barpolar": [
           {
            "marker": {
             "line": {
              "color": "#E5ECF6",
              "width": 0.5
             },
             "pattern": {
              "fillmode": "overlay",
              "size": 10,
              "solidity": 0.2
             }
            },
            "type": "barpolar"
           }
          ],
          "carpet": [
           {
            "aaxis": {
             "endlinecolor": "#2a3f5f",
             "gridcolor": "white",
             "linecolor": "white",
             "minorgridcolor": "white",
             "startlinecolor": "#2a3f5f"
            },
            "baxis": {
             "endlinecolor": "#2a3f5f",
             "gridcolor": "white",
             "linecolor": "white",
             "minorgridcolor": "white",
             "startlinecolor": "#2a3f5f"
            },
            "type": "carpet"
           }
          ],
          "choropleth": [
           {
            "colorbar": {
             "outlinewidth": 0,
             "ticks": ""
            },
            "type": "choropleth"
           }
          ],
          "contour": [
           {
            "colorbar": {
             "outlinewidth": 0,
             "ticks": ""
            },
            "colorscale": [
             [
              0,
              "#0d0887"
             ],
             [
              0.1111111111111111,
              "#46039f"
             ],
             [
              0.2222222222222222,
              "#7201a8"
             ],
             [
              0.3333333333333333,
              "#9c179e"
             ],
             [
              0.4444444444444444,
              "#bd3786"
             ],
             [
              0.5555555555555556,
              "#d8576b"
             ],
             [
              0.6666666666666666,
              "#ed7953"
             ],
             [
              0.7777777777777778,
              "#fb9f3a"
             ],
             [
              0.8888888888888888,
              "#fdca26"
             ],
             [
              1,
              "#f0f921"
             ]
            ],
            "type": "contour"
           }
          ],
          "contourcarpet": [
           {
            "colorbar": {
             "outlinewidth": 0,
             "ticks": ""
            },
            "type": "contourcarpet"
           }
          ],
          "heatmap": [
           {
            "colorbar": {
             "outlinewidth": 0,
             "ticks": ""
            },
            "colorscale": [
             [
              0,
              "#0d0887"
             ],
             [
              0.1111111111111111,
              "#46039f"
             ],
             [
              0.2222222222222222,
              "#7201a8"
             ],
             [
              0.3333333333333333,
              "#9c179e"
             ],
             [
              0.4444444444444444,
              "#bd3786"
             ],
             [
              0.5555555555555556,
              "#d8576b"
             ],
             [
              0.6666666666666666,
              "#ed7953"
             ],
             [
              0.7777777777777778,
              "#fb9f3a"
             ],
             [
              0.8888888888888888,
              "#fdca26"
             ],
             [
              1,
              "#f0f921"
             ]
            ],
            "type": "heatmap"
           }
          ],
          "histogram": [
           {
            "marker": {
             "pattern": {
              "fillmode": "overlay",
              "size": 10,
              "solidity": 0.2
             }
            },
            "type": "histogram"
           }
          ],
          "histogram2d": [
           {
            "colorbar": {
             "outlinewidth": 0,
             "ticks": ""
            },
            "colorscale": [
             [
              0,
              "#0d0887"
             ],
             [
              0.1111111111111111,
              "#46039f"
             ],
             [
              0.2222222222222222,
              "#7201a8"
             ],
             [
              0.3333333333333333,
              "#9c179e"
             ],
             [
              0.4444444444444444,
              "#bd3786"
             ],
             [
              0.5555555555555556,
              "#d8576b"
             ],
             [
              0.6666666666666666,
              "#ed7953"
             ],
             [
              0.7777777777777778,
              "#fb9f3a"
             ],
             [
              0.8888888888888888,
              "#fdca26"
             ],
             [
              1,
              "#f0f921"
             ]
            ],
            "type": "histogram2d"
           }
          ],
          "histogram2dcontour": [
           {
            "colorbar": {
             "outlinewidth": 0,
             "ticks": ""
            },
            "colorscale": [
             [
              0,
              "#0d0887"
             ],
             [
              0.1111111111111111,
              "#46039f"
             ],
             [
              0.2222222222222222,
              "#7201a8"
             ],
             [
              0.3333333333333333,
              "#9c179e"
             ],
             [
              0.4444444444444444,
              "#bd3786"
             ],
             [
              0.5555555555555556,
              "#d8576b"
             ],
             [
              0.6666666666666666,
              "#ed7953"
             ],
             [
              0.7777777777777778,
              "#fb9f3a"
             ],
             [
              0.8888888888888888,
              "#fdca26"
             ],
             [
              1,
              "#f0f921"
             ]
            ],
            "type": "histogram2dcontour"
           }
          ],
          "mesh3d": [
           {
            "colorbar": {
             "outlinewidth": 0,
             "ticks": ""
            },
            "type": "mesh3d"
           }
          ],
          "parcoords": [
           {
            "line": {
             "colorbar": {
              "outlinewidth": 0,
              "ticks": ""
             }
            },
            "type": "parcoords"
           }
          ],
          "pie": [
           {
            "automargin": true,
            "type": "pie"
           }
          ],
          "scatter": [
           {
            "fillpattern": {
             "fillmode": "overlay",
             "size": 10,
             "solidity": 0.2
            },
            "type": "scatter"
           }
          ],
          "scatter3d": [
           {
            "line": {
             "colorbar": {
              "outlinewidth": 0,
              "ticks": ""
             }
            },
            "marker": {
             "colorbar": {
              "outlinewidth": 0,
              "ticks": ""
             }
            },
            "type": "scatter3d"
           }
          ],
          "scattercarpet": [
           {
            "marker": {
             "colorbar": {
              "outlinewidth": 0,
              "ticks": ""
             }
            },
            "type": "scattercarpet"
           }
          ],
          "scattergeo": [
           {
            "marker": {
             "colorbar": {
              "outlinewidth": 0,
              "ticks": ""
             }
            },
            "type": "scattergeo"
           }
          ],
          "scattergl": [
           {
            "marker": {
             "colorbar": {
              "outlinewidth": 0,
              "ticks": ""
             }
            },
            "type": "scattergl"
           }
          ],
          "scattermap": [
           {
            "marker": {
             "colorbar": {
              "outlinewidth": 0,
              "ticks": ""
             }
            },
            "type": "scattermap"
           }
          ],
          "scattermapbox": [
           {
            "marker": {
             "colorbar": {
              "outlinewidth": 0,
              "ticks": ""
             }
            },
            "type": "scattermapbox"
           }
          ],
          "scatterpolar": [
           {
            "marker": {
             "colorbar": {
              "outlinewidth": 0,
              "ticks": ""
             }
            },
            "type": "scatterpolar"
           }
          ],
          "scatterpolargl": [
           {
            "marker": {
             "colorbar": {
              "outlinewidth": 0,
              "ticks": ""
             }
            },
            "type": "scatterpolargl"
           }
          ],
          "scatterternary": [
           {
            "marker": {
             "colorbar": {
              "outlinewidth": 0,
              "ticks": ""
             }
            },
            "type": "scatterternary"
           }
          ],
          "surface": [
           {
            "colorbar": {
             "outlinewidth": 0,
             "ticks": ""
            },
            "colorscale": [
             [
              0,
              "#0d0887"
             ],
             [
              0.1111111111111111,
              "#46039f"
             ],
             [
              0.2222222222222222,
              "#7201a8"
             ],
             [
              0.3333333333333333,
              "#9c179e"
             ],
             [
              0.4444444444444444,
              "#bd3786"
             ],
             [
              0.5555555555555556,
              "#d8576b"
             ],
             [
              0.6666666666666666,
              "#ed7953"
             ],
             [
              0.7777777777777778,
              "#fb9f3a"
             ],
             [
              0.8888888888888888,
              "#fdca26"
             ],
             [
              1,
              "#f0f921"
             ]
            ],
            "type": "surface"
           }
          ],
          "table": [
           {
            "cells": {
             "fill": {
              "color": "#EBF0F8"
             },
             "line": {
              "color": "white"
             }
            },
            "header": {
             "fill": {
              "color": "#C8D4E3"
             },
             "line": {
              "color": "white"
             }
            },
            "type": "table"
           }
          ]
         },
         "layout": {
          "annotationdefaults": {
           "arrowcolor": "#2a3f5f",
           "arrowhead": 0,
           "arrowwidth": 1
          },
          "autotypenumbers": "strict",
          "coloraxis": {
           "colorbar": {
            "outlinewidth": 0,
            "ticks": ""
           }
          },
          "colorscale": {
           "diverging": [
            [
             0,
             "#8e0152"
            ],
            [
             0.1,
             "#c51b7d"
            ],
            [
             0.2,
             "#de77ae"
            ],
            [
             0.3,
             "#f1b6da"
            ],
            [
             0.4,
             "#fde0ef"
            ],
            [
             0.5,
             "#f7f7f7"
            ],
            [
             0.6,
             "#e6f5d0"
            ],
            [
             0.7,
             "#b8e186"
            ],
            [
             0.8,
             "#7fbc41"
            ],
            [
             0.9,
             "#4d9221"
            ],
            [
             1,
             "#276419"
            ]
           ],
           "sequential": [
            [
             0,
             "#0d0887"
            ],
            [
             0.1111111111111111,
             "#46039f"
            ],
            [
             0.2222222222222222,
             "#7201a8"
            ],
            [
             0.3333333333333333,
             "#9c179e"
            ],
            [
             0.4444444444444444,
             "#bd3786"
            ],
            [
             0.5555555555555556,
             "#d8576b"
            ],
            [
             0.6666666666666666,
             "#ed7953"
            ],
            [
             0.7777777777777778,
             "#fb9f3a"
            ],
            [
             0.8888888888888888,
             "#fdca26"
            ],
            [
             1,
             "#f0f921"
            ]
           ],
           "sequentialminus": [
            [
             0,
             "#0d0887"
            ],
            [
             0.1111111111111111,
             "#46039f"
            ],
            [
             0.2222222222222222,
             "#7201a8"
            ],
            [
             0.3333333333333333,
             "#9c179e"
            ],
            [
             0.4444444444444444,
             "#bd3786"
            ],
            [
             0.5555555555555556,
             "#d8576b"
            ],
            [
             0.6666666666666666,
             "#ed7953"
            ],
            [
             0.7777777777777778,
             "#fb9f3a"
            ],
            [
             0.8888888888888888,
             "#fdca26"
            ],
            [
             1,
             "#f0f921"
            ]
           ]
          },
          "colorway": [
           "#636efa",
           "#EF553B",
           "#00cc96",
           "#ab63fa",
           "#FFA15A",
           "#19d3f3",
           "#FF6692",
           "#B6E880",
           "#FF97FF",
           "#FECB52"
          ],
          "font": {
           "color": "#2a3f5f"
          },
          "geo": {
           "bgcolor": "white",
           "lakecolor": "white",
           "landcolor": "#E5ECF6",
           "showlakes": true,
           "showland": true,
           "subunitcolor": "white"
          },
          "hoverlabel": {
           "align": "left"
          },
          "hovermode": "closest",
          "mapbox": {
           "style": "light"
          },
          "paper_bgcolor": "white",
          "plot_bgcolor": "#E5ECF6",
          "polar": {
           "angularaxis": {
            "gridcolor": "white",
            "linecolor": "white",
            "ticks": ""
           },
           "bgcolor": "#E5ECF6",
           "radialaxis": {
            "gridcolor": "white",
            "linecolor": "white",
            "ticks": ""
           }
          },
          "scene": {
           "xaxis": {
            "backgroundcolor": "#E5ECF6",
            "gridcolor": "white",
            "gridwidth": 2,
            "linecolor": "white",
            "showbackground": true,
            "ticks": "",
            "zerolinecolor": "white"
           },
           "yaxis": {
            "backgroundcolor": "#E5ECF6",
            "gridcolor": "white",
            "gridwidth": 2,
            "linecolor": "white",
            "showbackground": true,
            "ticks": "",
            "zerolinecolor": "white"
           },
           "zaxis": {
            "backgroundcolor": "#E5ECF6",
            "gridcolor": "white",
            "gridwidth": 2,
            "linecolor": "white",
            "showbackground": true,
            "ticks": "",
            "zerolinecolor": "white"
           }
          },
          "shapedefaults": {
           "line": {
            "color": "#2a3f5f"
           }
          },
          "ternary": {
           "aaxis": {
            "gridcolor": "white",
            "linecolor": "white",
            "ticks": ""
           },
           "baxis": {
            "gridcolor": "white",
            "linecolor": "white",
            "ticks": ""
           },
           "bgcolor": "#E5ECF6",
           "caxis": {
            "gridcolor": "white",
            "linecolor": "white",
            "ticks": ""
           }
          },
          "title": {
           "x": 0.05
          },
          "xaxis": {
           "automargin": true,
           "gridcolor": "white",
           "linecolor": "white",
           "ticks": "",
           "title": {
            "standoff": 15
           },
           "zerolinecolor": "white",
           "zerolinewidth": 2
          },
          "yaxis": {
           "automargin": true,
           "gridcolor": "white",
           "linecolor": "white",
           "ticks": "",
           "title": {
            "standoff": 15
           },
           "zerolinecolor": "white",
           "zerolinewidth": 2
          }
         }
        }
       }
      }
     },
     "metadata": {},
     "output_type": "display_data"
    }
   ],
   "source": [
    "import plotly.graph_objects as go\n",
    "\n",
    "def tarjeta_total_sales(df, año_seleccionado):\n",
    "    ventas_por_año = df.groupby('Year')['Sales'].sum()\n",
    "    ventas_actual = ventas_por_año.get(año_seleccionado, 0)\n",
    "    ventas_anterior = ventas_por_año.get(año_seleccionado - 1, 0)\n",
    "    if ventas_anterior != 0:\n",
    "        diff_pct = ((ventas_actual - ventas_anterior) / ventas_anterior) * 100\n",
    "    else:\n",
    "        diff_pct = 0\n",
    "\n",
    "    fig = go.Figure(go.Indicator(\n",
    "        mode = \"number+delta\",\n",
    "        value = ventas_actual,\n",
    "        number = {'valueformat': ',.0f', 'prefix': '$'},\n",
    "        delta = {'reference': ventas_anterior, 'relative': True, 'valueformat': '.2%', 'position': \"bottom\"},\n",
    "        title = {\"text\": f\"<b>Total Sales</b><br><span style='font-size:0.8em;color:gray'>{año_seleccionado}</span>\"}\n",
    "    ))\n",
    "    fig.update_layout(height=250)\n",
    "    fig.show()\n",
    "\n",
    "# Ejemplo de uso:\n",
    "tarjeta_total_sales(orders, 2022)"
   ]
  },
  {
   "cell_type": "code",
   "execution_count": 8,
   "id": "c7108550",
   "metadata": {},
   "outputs": [],
   "source": [
    "orders['Order Date'] = pd.to_datetime(orders['Order Date'])  # convertir a fecha si no lo está\n",
    "orders['Month'] = orders['Order Date'].dt.month  # extraer el mes\n"
   ]
  },
  {
   "cell_type": "markdown",
   "id": "cf114b7f",
   "metadata": {},
   "source": []
  },
  {
   "cell_type": "code",
   "execution_count": 7,
   "id": "b94d3638",
   "metadata": {},
   "outputs": [
    {
     "data": {
      "text/plain": [
       "Index(['Row ID', 'Order ID', 'Order Date', 'Ship Date', 'Ship Mode',\n",
       "       'Customer ID', 'Segment', 'Postal Code', 'Product ID', 'Sales',\n",
       "       'Quantity', 'Discount', 'Profit', 'Year'],\n",
       "      dtype='object')"
      ]
     },
     "execution_count": 7,
     "metadata": {},
     "output_type": "execute_result"
    }
   ],
   "source": [
    "orders.columns"
   ]
  },
  {
   "cell_type": "code",
   "execution_count": 13,
   "id": "0979b43c",
   "metadata": {},
   "outputs": [
    {
     "data": {
      "application/vnd.plotly.v1+json": {
       "config": {
        "plotlyServerURL": "https://plot.ly"
       },
       "data": [
        {
         "line": {
          "color": "lightgray",
          "width": 2
         },
         "mode": "lines",
         "name": "2019",
         "type": "scatter",
         "visible": false,
         "x": [],
         "y": []
        },
        {
         "line": {
          "color": "black",
          "width": 3
         },
         "mode": "lines",
         "name": "2020",
         "type": "scatter",
         "visible": false,
         "x": {
          "bdata": "AQAAAAIAAAADAAAABAAAAAUAAAAGAAAABwAAAAgAAAAJAAAACgAAAAsAAAAMAAAA",
          "dtype": "i4"
         },
         "y": {
          "bdata": "iv2E8teGZkCyt8Oei5BYQAskrU+EK3ZASBIhdAszakBI5g1S1DpoQJuyIswpBHBA7LpsSGWsbUDSCNlCRs1mQPTqoNo6EnNALvIaHD66aEAbwIzdUuhuQBF+7FNARW9A",
          "dtype": "f8"
         }
        },
        {
         "marker": {
          "color": "orange",
          "size": 12
         },
         "mode": "markers",
         "name": "Min",
         "type": "scatter",
         "visible": false,
         "x": [
          2
         ],
         "y": [
          98.25852173913043
         ]
        },
        {
         "marker": {
          "color": "dodgerblue",
          "size": 12
         },
         "mode": "markers",
         "name": "Max",
         "type": "scatter",
         "visible": false,
         "x": [
          3
         ],
         "y": [
          354.7198025477707
         ]
        },
        {
         "line": {
          "color": "lightgray",
          "width": 2
         },
         "mode": "lines",
         "name": "2020",
         "type": "scatter",
         "visible": false,
         "x": {
          "bdata": "AQAAAAIAAAADAAAABAAAAAUAAAAGAAAABwAAAAgAAAAJAAAACgAAAAsAAAAMAAAA",
          "dtype": "i4"
         },
         "y": {
          "bdata": "iv2E8teGZkCyt8Oei5BYQAskrU+EK3ZASBIhdAszakBI5g1S1DpoQJuyIswpBHBA7LpsSGWsbUDSCNlCRs1mQPTqoNo6EnNALvIaHD66aEAbwIzdUuhuQBF+7FNARW9A",
          "dtype": "f8"
         }
        },
        {
         "line": {
          "color": "black",
          "width": 3
         },
         "mode": "lines",
         "name": "2021",
         "type": "scatter",
         "visible": false,
         "x": {
          "bdata": "AQAAAAIAAAADAAAABAAAAAUAAAAGAAAABwAAAAgAAAAJAAAACgAAAAsAAAAMAAAA",
          "dtype": "i4"
         },
         "y": {
          "bdata": "vxOywImVc0BU46WbtFdnQHJeMg8AinFAPujZrAq3akDh8++LNMxpQMHXC8EYdmZA2VQacu6uaUAQ8/JVFAJtQIEnLCPYjmtALVVcDvalZ0B9ozaLdk9tQELvAnbJom1A",
          "dtype": "f8"
         }
        },
        {
         "marker": {
          "color": "orange",
          "size": 12
         },
         "mode": "markers",
         "name": "Min",
         "type": "scatter",
         "visible": false,
         "x": [
          6
         ],
         "y": [
          179.69052173913045
         ]
        },
        {
         "marker": {
          "color": "dodgerblue",
          "size": 12
         },
         "mode": "markers",
         "name": "Max",
         "type": "scatter",
         "visible": false,
         "x": [
          1
         ],
         "y": [
          313.34613103448277
         ]
        },
        {
         "line": {
          "color": "lightgray",
          "width": 2
         },
         "mode": "lines",
         "name": "2021",
         "type": "scatter",
         "visible": false,
         "x": {
          "bdata": "AQAAAAIAAAADAAAABAAAAAUAAAAGAAAABwAAAAgAAAAJAAAACgAAAAsAAAAMAAAA",
          "dtype": "i4"
         },
         "y": {
          "bdata": "vxOywImVc0BU46WbtFdnQHJeMg8AinFAPujZrAq3akDh8++LNMxpQMHXC8EYdmZA2VQacu6uaUAQ8/JVFAJtQIEnLCPYjmtALVVcDvalZ0B9ozaLdk9tQELvAnbJom1A",
          "dtype": "f8"
         }
        },
        {
         "line": {
          "color": "black",
          "width": 3
         },
         "mode": "lines",
         "name": "2022",
         "type": "scatter",
         "visible": false,
         "x": {
          "bdata": "AQAAAAIAAAADAAAABAAAAAUAAAAGAAAABwAAAAgAAAAJAAAACgAAAAsAAAAMAAAA",
          "dtype": "i4"
         },
         "y": {
          "bdata": "WIzZivYKakDaj3atpk1xQH6QDKhn1HNA+p46/x9+bEBpFFbb66hvQOlLkDGQV2lA0a6fKKlqaEApLHo9VxlmQJbjOTtoR2lAbukLD3gIc0B6kCPZD9RqQP2OACMMOXFA",
          "dtype": "f8"
         }
        },
        {
         "marker": {
          "color": "orange",
          "size": 12
         },
         "mode": "markers",
         "name": "Min",
         "type": "scatter",
         "visible": false,
         "x": [
          8
         ],
         "y": [
          176.79189943181817
         ]
        },
        {
         "marker": {
          "color": "dodgerblue",
          "size": 12
         },
         "mode": "markers",
         "name": "Max",
         "type": "scatter",
         "visible": false,
         "x": [
          3
         ],
         "y": [
          317.2753067484663
         ]
        },
        {
         "line": {
          "color": "lightgray",
          "width": 2
         },
         "mode": "lines",
         "name": "2022",
         "type": "scatter",
         "visible": true,
         "x": {
          "bdata": "AQAAAAIAAAADAAAABAAAAAUAAAAGAAAABwAAAAgAAAAJAAAACgAAAAsAAAAMAAAA",
          "dtype": "i4"
         },
         "y": {
          "bdata": "WIzZivYKakDaj3atpk1xQH6QDKhn1HNA+p46/x9+bEBpFFbb66hvQOlLkDGQV2lA0a6fKKlqaEApLHo9VxlmQJbjOTtoR2lAbukLD3gIc0B6kCPZD9RqQP2OACMMOXFA",
          "dtype": "f8"
         }
        },
        {
         "line": {
          "color": "black",
          "width": 3
         },
         "mode": "lines",
         "name": "2023",
         "type": "scatter",
         "visible": true,
         "x": {
          "bdata": "AQAAAAIAAAADAAAABAAAAAUAAAAGAAAABwAAAAgAAAAJAAAACgAAAAsAAAAMAAAA",
          "dtype": "i4"
         },
         "y": {
          "bdata": "Q9nLBPu6cUCn6ZbzXbdnQAy9I0ec625AlaIt5RZ9ZkBz2gxztdxmQN4X5ucPCGtASyH/7x4JaUDOOxnJuRhyQG9rzpfH7WdAqzINM/FPcEAfka105iBwQPwkKhhcrmZA",
          "dtype": "f8"
         }
        },
        {
         "marker": {
          "color": "orange",
          "size": 12
         },
         "mode": "markers",
         "name": "Min",
         "type": "scatter",
         "visible": true,
         "x": [
          4
         ],
         "y": [
          179.9090448275862
         ]
        },
        {
         "marker": {
          "color": "dodgerblue",
          "size": 12
         },
         "mode": "markers",
         "name": "Max",
         "type": "scatter",
         "visible": true,
         "x": [
          8
         ],
         "y": [
          289.5453577981651
         ]
        }
       ],
       "layout": {
        "annotations": [
         {
          "align": "left",
          "showarrow": false,
          "text": "<b>Avg. Monthly Sales</b><br><span style='font-size:1.5em'>$ 733,215</span>",
          "x": 0.01,
          "xref": "paper",
          "y": 1.15,
          "yref": "paper"
         },
         {
          "align": "left",
          "showarrow": false,
          "text": "<span style='color:gray;'>▲ 20.4% vs. PY</span>",
          "x": 0.01,
          "xref": "paper",
          "y": 1.05,
          "yref": "paper"
         }
        ],
        "height": 500,
        "margin": {
         "b": 40,
         "t": 100
        },
        "plot_bgcolor": "white",
        "showlegend": false,
        "template": {
         "data": {
          "bar": [
           {
            "error_x": {
             "color": "#2a3f5f"
            },
            "error_y": {
             "color": "#2a3f5f"
            },
            "marker": {
             "line": {
              "color": "#E5ECF6",
              "width": 0.5
             },
             "pattern": {
              "fillmode": "overlay",
              "size": 10,
              "solidity": 0.2
             }
            },
            "type": "bar"
           }
          ],
          "barpolar": [
           {
            "marker": {
             "line": {
              "color": "#E5ECF6",
              "width": 0.5
             },
             "pattern": {
              "fillmode": "overlay",
              "size": 10,
              "solidity": 0.2
             }
            },
            "type": "barpolar"
           }
          ],
          "carpet": [
           {
            "aaxis": {
             "endlinecolor": "#2a3f5f",
             "gridcolor": "white",
             "linecolor": "white",
             "minorgridcolor": "white",
             "startlinecolor": "#2a3f5f"
            },
            "baxis": {
             "endlinecolor": "#2a3f5f",
             "gridcolor": "white",
             "linecolor": "white",
             "minorgridcolor": "white",
             "startlinecolor": "#2a3f5f"
            },
            "type": "carpet"
           }
          ],
          "choropleth": [
           {
            "colorbar": {
             "outlinewidth": 0,
             "ticks": ""
            },
            "type": "choropleth"
           }
          ],
          "contour": [
           {
            "colorbar": {
             "outlinewidth": 0,
             "ticks": ""
            },
            "colorscale": [
             [
              0,
              "#0d0887"
             ],
             [
              0.1111111111111111,
              "#46039f"
             ],
             [
              0.2222222222222222,
              "#7201a8"
             ],
             [
              0.3333333333333333,
              "#9c179e"
             ],
             [
              0.4444444444444444,
              "#bd3786"
             ],
             [
              0.5555555555555556,
              "#d8576b"
             ],
             [
              0.6666666666666666,
              "#ed7953"
             ],
             [
              0.7777777777777778,
              "#fb9f3a"
             ],
             [
              0.8888888888888888,
              "#fdca26"
             ],
             [
              1,
              "#f0f921"
             ]
            ],
            "type": "contour"
           }
          ],
          "contourcarpet": [
           {
            "colorbar": {
             "outlinewidth": 0,
             "ticks": ""
            },
            "type": "contourcarpet"
           }
          ],
          "heatmap": [
           {
            "colorbar": {
             "outlinewidth": 0,
             "ticks": ""
            },
            "colorscale": [
             [
              0,
              "#0d0887"
             ],
             [
              0.1111111111111111,
              "#46039f"
             ],
             [
              0.2222222222222222,
              "#7201a8"
             ],
             [
              0.3333333333333333,
              "#9c179e"
             ],
             [
              0.4444444444444444,
              "#bd3786"
             ],
             [
              0.5555555555555556,
              "#d8576b"
             ],
             [
              0.6666666666666666,
              "#ed7953"
             ],
             [
              0.7777777777777778,
              "#fb9f3a"
             ],
             [
              0.8888888888888888,
              "#fdca26"
             ],
             [
              1,
              "#f0f921"
             ]
            ],
            "type": "heatmap"
           }
          ],
          "histogram": [
           {
            "marker": {
             "pattern": {
              "fillmode": "overlay",
              "size": 10,
              "solidity": 0.2
             }
            },
            "type": "histogram"
           }
          ],
          "histogram2d": [
           {
            "colorbar": {
             "outlinewidth": 0,
             "ticks": ""
            },
            "colorscale": [
             [
              0,
              "#0d0887"
             ],
             [
              0.1111111111111111,
              "#46039f"
             ],
             [
              0.2222222222222222,
              "#7201a8"
             ],
             [
              0.3333333333333333,
              "#9c179e"
             ],
             [
              0.4444444444444444,
              "#bd3786"
             ],
             [
              0.5555555555555556,
              "#d8576b"
             ],
             [
              0.6666666666666666,
              "#ed7953"
             ],
             [
              0.7777777777777778,
              "#fb9f3a"
             ],
             [
              0.8888888888888888,
              "#fdca26"
             ],
             [
              1,
              "#f0f921"
             ]
            ],
            "type": "histogram2d"
           }
          ],
          "histogram2dcontour": [
           {
            "colorbar": {
             "outlinewidth": 0,
             "ticks": ""
            },
            "colorscale": [
             [
              0,
              "#0d0887"
             ],
             [
              0.1111111111111111,
              "#46039f"
             ],
             [
              0.2222222222222222,
              "#7201a8"
             ],
             [
              0.3333333333333333,
              "#9c179e"
             ],
             [
              0.4444444444444444,
              "#bd3786"
             ],
             [
              0.5555555555555556,
              "#d8576b"
             ],
             [
              0.6666666666666666,
              "#ed7953"
             ],
             [
              0.7777777777777778,
              "#fb9f3a"
             ],
             [
              0.8888888888888888,
              "#fdca26"
             ],
             [
              1,
              "#f0f921"
             ]
            ],
            "type": "histogram2dcontour"
           }
          ],
          "mesh3d": [
           {
            "colorbar": {
             "outlinewidth": 0,
             "ticks": ""
            },
            "type": "mesh3d"
           }
          ],
          "parcoords": [
           {
            "line": {
             "colorbar": {
              "outlinewidth": 0,
              "ticks": ""
             }
            },
            "type": "parcoords"
           }
          ],
          "pie": [
           {
            "automargin": true,
            "type": "pie"
           }
          ],
          "scatter": [
           {
            "fillpattern": {
             "fillmode": "overlay",
             "size": 10,
             "solidity": 0.2
            },
            "type": "scatter"
           }
          ],
          "scatter3d": [
           {
            "line": {
             "colorbar": {
              "outlinewidth": 0,
              "ticks": ""
             }
            },
            "marker": {
             "colorbar": {
              "outlinewidth": 0,
              "ticks": ""
             }
            },
            "type": "scatter3d"
           }
          ],
          "scattercarpet": [
           {
            "marker": {
             "colorbar": {
              "outlinewidth": 0,
              "ticks": ""
             }
            },
            "type": "scattercarpet"
           }
          ],
          "scattergeo": [
           {
            "marker": {
             "colorbar": {
              "outlinewidth": 0,
              "ticks": ""
             }
            },
            "type": "scattergeo"
           }
          ],
          "scattergl": [
           {
            "marker": {
             "colorbar": {
              "outlinewidth": 0,
              "ticks": ""
             }
            },
            "type": "scattergl"
           }
          ],
          "scattermap": [
           {
            "marker": {
             "colorbar": {
              "outlinewidth": 0,
              "ticks": ""
             }
            },
            "type": "scattermap"
           }
          ],
          "scattermapbox": [
           {
            "marker": {
             "colorbar": {
              "outlinewidth": 0,
              "ticks": ""
             }
            },
            "type": "scattermapbox"
           }
          ],
          "scatterpolar": [
           {
            "marker": {
             "colorbar": {
              "outlinewidth": 0,
              "ticks": ""
             }
            },
            "type": "scatterpolar"
           }
          ],
          "scatterpolargl": [
           {
            "marker": {
             "colorbar": {
              "outlinewidth": 0,
              "ticks": ""
             }
            },
            "type": "scatterpolargl"
           }
          ],
          "scatterternary": [
           {
            "marker": {
             "colorbar": {
              "outlinewidth": 0,
              "ticks": ""
             }
            },
            "type": "scatterternary"
           }
          ],
          "surface": [
           {
            "colorbar": {
             "outlinewidth": 0,
             "ticks": ""
            },
            "colorscale": [
             [
              0,
              "#0d0887"
             ],
             [
              0.1111111111111111,
              "#46039f"
             ],
             [
              0.2222222222222222,
              "#7201a8"
             ],
             [
              0.3333333333333333,
              "#9c179e"
             ],
             [
              0.4444444444444444,
              "#bd3786"
             ],
             [
              0.5555555555555556,
              "#d8576b"
             ],
             [
              0.6666666666666666,
              "#ed7953"
             ],
             [
              0.7777777777777778,
              "#fb9f3a"
             ],
             [
              0.8888888888888888,
              "#fdca26"
             ],
             [
              1,
              "#f0f921"
             ]
            ],
            "type": "surface"
           }
          ],
          "table": [
           {
            "cells": {
             "fill": {
              "color": "#EBF0F8"
             },
             "line": {
              "color": "white"
             }
            },
            "header": {
             "fill": {
              "color": "#C8D4E3"
             },
             "line": {
              "color": "white"
             }
            },
            "type": "table"
           }
          ]
         },
         "layout": {
          "annotationdefaults": {
           "arrowcolor": "#2a3f5f",
           "arrowhead": 0,
           "arrowwidth": 1
          },
          "autotypenumbers": "strict",
          "coloraxis": {
           "colorbar": {
            "outlinewidth": 0,
            "ticks": ""
           }
          },
          "colorscale": {
           "diverging": [
            [
             0,
             "#8e0152"
            ],
            [
             0.1,
             "#c51b7d"
            ],
            [
             0.2,
             "#de77ae"
            ],
            [
             0.3,
             "#f1b6da"
            ],
            [
             0.4,
             "#fde0ef"
            ],
            [
             0.5,
             "#f7f7f7"
            ],
            [
             0.6,
             "#e6f5d0"
            ],
            [
             0.7,
             "#b8e186"
            ],
            [
             0.8,
             "#7fbc41"
            ],
            [
             0.9,
             "#4d9221"
            ],
            [
             1,
             "#276419"
            ]
           ],
           "sequential": [
            [
             0,
             "#0d0887"
            ],
            [
             0.1111111111111111,
             "#46039f"
            ],
            [
             0.2222222222222222,
             "#7201a8"
            ],
            [
             0.3333333333333333,
             "#9c179e"
            ],
            [
             0.4444444444444444,
             "#bd3786"
            ],
            [
             0.5555555555555556,
             "#d8576b"
            ],
            [
             0.6666666666666666,
             "#ed7953"
            ],
            [
             0.7777777777777778,
             "#fb9f3a"
            ],
            [
             0.8888888888888888,
             "#fdca26"
            ],
            [
             1,
             "#f0f921"
            ]
           ],
           "sequentialminus": [
            [
             0,
             "#0d0887"
            ],
            [
             0.1111111111111111,
             "#46039f"
            ],
            [
             0.2222222222222222,
             "#7201a8"
            ],
            [
             0.3333333333333333,
             "#9c179e"
            ],
            [
             0.4444444444444444,
             "#bd3786"
            ],
            [
             0.5555555555555556,
             "#d8576b"
            ],
            [
             0.6666666666666666,
             "#ed7953"
            ],
            [
             0.7777777777777778,
             "#fb9f3a"
            ],
            [
             0.8888888888888888,
             "#fdca26"
            ],
            [
             1,
             "#f0f921"
            ]
           ]
          },
          "colorway": [
           "#636efa",
           "#EF553B",
           "#00cc96",
           "#ab63fa",
           "#FFA15A",
           "#19d3f3",
           "#FF6692",
           "#B6E880",
           "#FF97FF",
           "#FECB52"
          ],
          "font": {
           "color": "#2a3f5f"
          },
          "geo": {
           "bgcolor": "white",
           "lakecolor": "white",
           "landcolor": "#E5ECF6",
           "showlakes": true,
           "showland": true,
           "subunitcolor": "white"
          },
          "hoverlabel": {
           "align": "left"
          },
          "hovermode": "closest",
          "mapbox": {
           "style": "light"
          },
          "paper_bgcolor": "white",
          "plot_bgcolor": "#E5ECF6",
          "polar": {
           "angularaxis": {
            "gridcolor": "white",
            "linecolor": "white",
            "ticks": ""
           },
           "bgcolor": "#E5ECF6",
           "radialaxis": {
            "gridcolor": "white",
            "linecolor": "white",
            "ticks": ""
           }
          },
          "scene": {
           "xaxis": {
            "backgroundcolor": "#E5ECF6",
            "gridcolor": "white",
            "gridwidth": 2,
            "linecolor": "white",
            "showbackground": true,
            "ticks": "",
            "zerolinecolor": "white"
           },
           "yaxis": {
            "backgroundcolor": "#E5ECF6",
            "gridcolor": "white",
            "gridwidth": 2,
            "linecolor": "white",
            "showbackground": true,
            "ticks": "",
            "zerolinecolor": "white"
           },
           "zaxis": {
            "backgroundcolor": "#E5ECF6",
            "gridcolor": "white",
            "gridwidth": 2,
            "linecolor": "white",
            "showbackground": true,
            "ticks": "",
            "zerolinecolor": "white"
           }
          },
          "shapedefaults": {
           "line": {
            "color": "#2a3f5f"
           }
          },
          "ternary": {
           "aaxis": {
            "gridcolor": "white",
            "linecolor": "white",
            "ticks": ""
           },
           "baxis": {
            "gridcolor": "white",
            "linecolor": "white",
            "ticks": ""
           },
           "bgcolor": "#E5ECF6",
           "caxis": {
            "gridcolor": "white",
            "linecolor": "white",
            "ticks": ""
           }
          },
          "title": {
           "x": 0.05
          },
          "xaxis": {
           "automargin": true,
           "gridcolor": "white",
           "linecolor": "white",
           "ticks": "",
           "title": {
            "standoff": 15
           },
           "zerolinecolor": "white",
           "zerolinewidth": 2
          },
          "yaxis": {
           "automargin": true,
           "gridcolor": "white",
           "linecolor": "white",
           "ticks": "",
           "title": {
            "standoff": 15
           },
           "zerolinecolor": "white",
           "zerolinewidth": 2
          }
         }
        },
        "updatemenus": [
         {
          "active": 3,
          "buttons": [
           {
            "args": [
             {
              "visible": [
               true,
               true,
               true,
               true,
               false,
               false,
               false,
               false,
               false,
               false,
               false,
               false,
               false,
               false,
               false,
               false
              ]
             },
             {
              "annotations": [
               {
                "align": "left",
                "showarrow": false,
                "text": "<b>Avg. Monthly Sales</b><br><span style='font-size:1.5em'>$ 484,247</span>",
                "x": 0.01,
                "xref": "paper",
                "y": 1.15,
                "yref": "paper"
               },
               {
                "align": "left",
                "showarrow": false,
                "text": "<span style='color:gray;'>▲ 0.0% vs. PY</span>",
                "x": 0.01,
                "xref": "paper",
                "y": 1.05,
                "yref": "paper"
               }
              ]
             }
            ],
            "label": "2020",
            "method": "update"
           },
           {
            "args": [
             {
              "visible": [
               false,
               false,
               false,
               false,
               true,
               true,
               true,
               true,
               false,
               false,
               false,
               false,
               false,
               false,
               false,
               false
              ]
             },
             {
              "annotations": [
               {
                "align": "left",
                "showarrow": false,
                "text": "<b>Avg. Monthly Sales</b><br><span style='font-size:1.5em'>$ 470,533</span>",
                "x": 0.01,
                "xref": "paper",
                "y": 1.15,
                "yref": "paper"
               },
               {
                "align": "left",
                "showarrow": false,
                "text": "<span style='color:gray;'>▲ -2.8% vs. PY</span>",
                "x": 0.01,
                "xref": "paper",
                "y": 1.05,
                "yref": "paper"
               }
              ]
             }
            ],
            "label": "2021",
            "method": "update"
           },
           {
            "args": [
             {
              "visible": [
               false,
               false,
               false,
               false,
               false,
               false,
               false,
               false,
               true,
               true,
               true,
               true,
               false,
               false,
               false,
               false
              ]
             },
             {
              "annotations": [
               {
                "align": "left",
                "showarrow": false,
                "text": "<b>Avg. Monthly Sales</b><br><span style='font-size:1.5em'>$ 609,206</span>",
                "x": 0.01,
                "xref": "paper",
                "y": 1.15,
                "yref": "paper"
               },
               {
                "align": "left",
                "showarrow": false,
                "text": "<span style='color:gray;'>▲ 29.5% vs. PY</span>",
                "x": 0.01,
                "xref": "paper",
                "y": 1.05,
                "yref": "paper"
               }
              ]
             }
            ],
            "label": "2022",
            "method": "update"
           },
           {
            "args": [
             {
              "visible": [
               false,
               false,
               false,
               false,
               false,
               false,
               false,
               false,
               false,
               false,
               false,
               false,
               true,
               true,
               true,
               true
              ]
             },
             {
              "annotations": [
               {
                "align": "left",
                "showarrow": false,
                "text": "<b>Avg. Monthly Sales</b><br><span style='font-size:1.5em'>$ 733,215</span>",
                "x": 0.01,
                "xref": "paper",
                "y": 1.15,
                "yref": "paper"
               },
               {
                "align": "left",
                "showarrow": false,
                "text": "<span style='color:gray;'>▲ 20.4% vs. PY</span>",
                "x": 0.01,
                "xref": "paper",
                "y": 1.05,
                "yref": "paper"
               }
              ]
             }
            ],
            "label": "2023",
            "method": "update"
           }
          ],
          "direction": "down",
          "showactive": true,
          "x": 0,
          "y": 1.25
         }
        ],
        "xaxis": {
         "dtick": 1,
         "title": {
          "text": "Month"
         }
        },
        "yaxis": {
         "title": {
          "text": "Average Sales"
         }
        }
       }
      }
     },
     "metadata": {},
     "output_type": "display_data"
    }
   ],
   "source": [
    "import plotly.graph_objects as go\n",
    "import pandas as pd\n",
    "\n",
    "# Asegúrate de tener la columna 'Month'\n",
    "orders['Order Date'] = pd.to_datetime(orders['Order Date'])\n",
    "orders['Month'] = orders['Order Date'].dt.month\n",
    "\n",
    "años_disponibles = sorted(orders['Year'].unique())\n",
    "fig = go.Figure()\n",
    "trazas = []\n",
    "\n",
    "# Creamos las trazas de cada año\n",
    "for i, año in enumerate(años_disponibles):\n",
    "    actual = orders[orders['Year'] == año].groupby('Month')['Sales'].mean()\n",
    "    anterior = orders[orders['Year'] == año - 1].groupby('Month')['Sales'].mean()\n",
    "\n",
    "    total_actual = orders[orders['Year'] == año]['Sales'].sum()\n",
    "    total_anterior = orders[orders['Year'] == año - 1]['Sales'].sum() if not anterior.empty else 0\n",
    "    diff_pct = ((total_actual - total_anterior) / total_anterior * 100) if total_anterior else 0\n",
    "\n",
    "    max_mes = actual.idxmax()\n",
    "    min_mes = actual.idxmin()\n",
    "\n",
    "    # Línea gris: año anterior\n",
    "    trazas.append(go.Scatter(\n",
    "        x=anterior.index,\n",
    "        y=anterior.values,\n",
    "        mode='lines',\n",
    "        name=f\"{año - 1}\",\n",
    "        line=dict(color='lightgray', width=2),\n",
    "        visible=(i == len(años_disponibles) - 1)\n",
    "    ))\n",
    "\n",
    "    # Línea negra: año actual\n",
    "    trazas.append(go.Scatter(\n",
    "        x=actual.index,\n",
    "        y=actual.values,\n",
    "        mode='lines',\n",
    "        name=f\"{año}\",\n",
    "        line=dict(color='black', width=3),\n",
    "        visible=(i == len(años_disponibles) - 1)\n",
    "    ))\n",
    "\n",
    "    # Punto mínimo (naranja)\n",
    "    trazas.append(go.Scatter(\n",
    "        x=[min_mes],\n",
    "        y=[actual[min_mes]],\n",
    "        mode='markers',\n",
    "        marker=dict(color='orange', size=12),\n",
    "        name='Min',\n",
    "        visible=(i == len(años_disponibles) - 1)\n",
    "    ))\n",
    "\n",
    "    # Punto máximo (azul)\n",
    "    trazas.append(go.Scatter(\n",
    "        x=[max_mes],\n",
    "        y=[actual[max_mes]],\n",
    "        mode='markers',\n",
    "        marker=dict(color='dodgerblue', size=12),\n",
    "        name='Max',\n",
    "        visible=(i == len(años_disponibles) - 1)\n",
    "    ))\n",
    "\n",
    "# Añadir todas las trazas al gráfico\n",
    "for traza in trazas:\n",
    "    fig.add_trace(traza)\n",
    "\n",
    "# Crear botones del dropdown por año\n",
    "botones = []\n",
    "for i, año in enumerate(años_disponibles):\n",
    "    actual = orders[orders['Year'] == año].groupby('Month')['Sales'].mean()\n",
    "    anterior = orders[orders['Year'] == año - 1].groupby('Month')['Sales'].mean()\n",
    "    total_actual = orders[orders['Year'] == año]['Sales'].sum()\n",
    "    total_anterior = orders[orders['Year'] == año - 1]['Sales'].sum() if not anterior.empty else 0\n",
    "    diff_pct = ((total_actual - total_anterior) / total_anterior * 100) if total_anterior else 0\n",
    "\n",
    "    visibilidad = [False] * len(trazas)\n",
    "    visibilidad[i*4:i*4+4] = [True] * 4\n",
    "\n",
    "    botones.append(dict(\n",
    "        label=str(año),\n",
    "        method='update',\n",
    "        args=[\n",
    "            {'visible': visibilidad},\n",
    "            {'annotations': [\n",
    "                dict(x=0.01, y=1.15, xref='paper', yref='paper',\n",
    "                     text=f\"<b>Avg. Monthly Sales</b><br><span style='font-size:1.5em'>$ {total_actual:,.0f}</span>\",\n",
    "                     showarrow=False, align='left'),\n",
    "                dict(x=0.01, y=1.05, xref='paper', yref='paper',\n",
    "                     text=f\"<span style='color:gray;'>▲ {diff_pct:.1f}% vs. PY</span>\",\n",
    "                     showarrow=False, align='left')\n",
    "            ]}\n",
    "        ]\n",
    "    ))\n",
    "\n",
    "# Valores por defecto (último año)\n",
    "último_año = años_disponibles[-1]\n",
    "df_ult = orders[orders['Year'] == último_año]['Sales']\n",
    "df_ant = orders[orders['Year'] == último_año - 1]['Sales']\n",
    "ventas_ult = df_ult.sum()\n",
    "ventas_ant = df_ant.sum()\n",
    "diff_ult = ((ventas_ult - ventas_ant) / ventas_ant * 100) if ventas_ant.sum() else 0\n",
    "\n",
    "# Layout y diseño\n",
    "fig.update_layout(\n",
    "    updatemenus=[dict(\n",
    "        active=len(botones) - 1,\n",
    "        buttons=botones,\n",
    "        direction=\"down\",\n",
    "        x=0,\n",
    "        y=1.25,\n",
    "        showactive=True\n",
    "    )],\n",
    "    annotations=[\n",
    "        dict(x=0.01, y=1.15, xref='paper', yref='paper',\n",
    "             text=f\"<b>Avg. Monthly Sales</b><br><span style='font-size:1.5em'>$ {ventas_ult:,.0f}</span>\",\n",
    "             showarrow=False, align='left'),\n",
    "        dict(x=0.01, y=1.05, xref='paper', yref='paper',\n",
    "             text=f\"<span style='color:gray;'>▲ {diff_ult:.1f}% vs. PY</span>\",\n",
    "             showarrow=False, align='left')\n",
    "    ],\n",
    "    height=500,\n",
    "    margin=dict(t=100, b=40),\n",
    "    plot_bgcolor='white',\n",
    "    xaxis=dict(title='Month', dtick=1),\n",
    "    yaxis=dict(title='Average Sales'),\n",
    "    showlegend=False\n",
    ")\n",
    "\n",
    "fig.show()\n"
   ]
  }
 ],
 "metadata": {
  "kernelspec": {
   "display_name": "Python 3",
   "language": "python",
   "name": "python3"
  },
  "language_info": {
   "codemirror_mode": {
    "name": "ipython",
    "version": 3
   },
   "file_extension": ".py",
   "mimetype": "text/x-python",
   "name": "python",
   "nbconvert_exporter": "python",
   "pygments_lexer": "ipython3",
   "version": "3.11.9"
  }
 },
 "nbformat": 4,
 "nbformat_minor": 5
}
